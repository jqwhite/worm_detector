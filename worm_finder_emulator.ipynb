{
 "cells": [
  {
   "cell_type": "code",
   "execution_count": 22,
   "id": "5298aff8-d96f-41cb-979c-8a5e65355fc2",
   "metadata": {
    "execution": {
     "iopub.execute_input": "2023-02-28T13:45:30.143769Z",
     "iopub.status.busy": "2023-02-28T13:45:30.143479Z",
     "iopub.status.idle": "2023-02-28T13:45:30.147070Z",
     "shell.execute_reply": "2023-02-28T13:45:30.146178Z",
     "shell.execute_reply.started": "2023-02-28T13:45:30.143746Z"
    },
    "tags": []
   },
   "outputs": [],
   "source": [
    "# http://docs.enthought.com/python-for-LabVIEW/guide/start.html\n",
    "\n",
    "import numpy as np\n",
    "import sys"
   ]
  },
  {
   "cell_type": "code",
   "execution_count": 23,
   "id": "314302aa-346a-4843-8039-78187e24c58c",
   "metadata": {
    "execution": {
     "iopub.execute_input": "2023-02-28T13:45:30.336672Z",
     "iopub.status.busy": "2023-02-28T13:45:30.336329Z",
     "iopub.status.idle": "2023-02-28T13:45:30.340843Z",
     "shell.execute_reply": "2023-02-28T13:45:30.340007Z",
     "shell.execute_reply.started": "2023-02-28T13:45:30.336646Z"
    },
    "tags": []
   },
   "outputs": [],
   "source": [
    "def worm_finder(image, avg_chance_of_worms=0.25):\n",
    "    # do stuff\n",
    "    random_number = np.random.uniform()\n",
    "\n",
    "    if random_number < avg_chance_of_worms:\n",
    "        success = 1\n",
    "    else:\n",
    "        success = 0\n",
    "        \n",
    "    return(success)\n"
   ]
  },
  {
   "cell_type": "code",
   "execution_count": 25,
   "id": "61afb080-dc9b-4eb4-83ef-043f220a04fb",
   "metadata": {
    "execution": {
     "iopub.execute_input": "2023-02-28T13:45:38.235518Z",
     "iopub.status.busy": "2023-02-28T13:45:38.235146Z",
     "iopub.status.idle": "2023-02-28T13:45:38.238347Z",
     "shell.execute_reply": "2023-02-28T13:45:38.237570Z",
     "shell.execute_reply.started": "2023-02-28T13:45:38.235495Z"
    },
    "tags": []
   },
   "outputs": [],
   "source": [
    "# if __name__ == '__main__':\n",
    "#     globals()[sys.argv[1]]()"
   ]
  },
  {
   "cell_type": "code",
   "execution_count": 16,
   "id": "35adf9ab-c609-4b62-905d-892deb083b35",
   "metadata": {
    "execution": {
     "iopub.execute_input": "2023-02-28T09:55:40.180854Z",
     "iopub.status.busy": "2023-02-28T09:55:40.180309Z",
     "iopub.status.idle": "2023-02-28T09:55:40.185804Z",
     "shell.execute_reply": "2023-02-28T09:55:40.185046Z",
     "shell.execute_reply.started": "2023-02-28T09:55:40.180826Z"
    },
    "tags": []
   },
   "outputs": [
    {
     "data": {
      "text/plain": [
       "0"
      ]
     },
     "execution_count": 16,
     "metadata": {},
     "output_type": "execute_result"
    }
   ],
   "source": [
    "worm_finder(1,0.5)"
   ]
  },
  {
   "cell_type": "code",
   "execution_count": 18,
   "id": "efb5be83-2e84-47c7-b7d9-056d9d98bb8f",
   "metadata": {
    "execution": {
     "iopub.execute_input": "2023-02-28T09:55:44.266532Z",
     "iopub.status.busy": "2023-02-28T09:55:44.266207Z",
     "iopub.status.idle": "2023-02-28T09:55:44.301279Z",
     "shell.execute_reply": "2023-02-28T09:55:44.300033Z",
     "shell.execute_reply.started": "2023-02-28T09:55:44.266504Z"
    },
    "tags": []
   },
   "outputs": [
    {
     "data": {
      "text/plain": [
       "0.1006"
      ]
     },
     "execution_count": 18,
     "metadata": {},
     "output_type": "execute_result"
    }
   ],
   "source": [
    "np.mean([worm_finder(i, 0.1) for i in range(10000)])"
   ]
  },
  {
   "cell_type": "code",
   "execution_count": 26,
   "id": "7f2e4b62-78c5-4853-bb2c-318b6faae60f",
   "metadata": {
    "execution": {
     "iopub.execute_input": "2023-02-28T14:14:54.723268Z",
     "iopub.status.busy": "2023-02-28T14:14:54.722925Z",
     "iopub.status.idle": "2023-02-28T14:14:54.734501Z",
     "shell.execute_reply": "2023-02-28T14:14:54.733657Z",
     "shell.execute_reply.started": "2023-02-28T14:14:54.723238Z"
    },
    "tags": []
   },
   "outputs": [
    {
     "data": {
      "text/plain": [
       "array('[1,2,3]', dtype='<U7')"
      ]
     },
     "execution_count": 26,
     "metadata": {},
     "output_type": "execute_result"
    }
   ],
   "source": [
    "np.array('[1,2,3]')"
   ]
  },
  {
   "cell_type": "code",
   "execution_count": 27,
   "id": "a798b16e-adac-4023-aa57-6ccac66c21f4",
   "metadata": {
    "execution": {
     "iopub.execute_input": "2023-02-28T14:15:23.635862Z",
     "iopub.status.busy": "2023-02-28T14:15:23.635524Z",
     "iopub.status.idle": "2023-02-28T14:15:23.639184Z",
     "shell.execute_reply": "2023-02-28T14:15:23.638436Z",
     "shell.execute_reply.started": "2023-02-28T14:15:23.635835Z"
    },
    "tags": []
   },
   "outputs": [],
   "source": [
    "l = '[1,2,3]'"
   ]
  },
  {
   "cell_type": "code",
   "execution_count": 28,
   "id": "5f0185ae-e233-45b3-81ba-3c788c2765b5",
   "metadata": {
    "execution": {
     "iopub.execute_input": "2023-02-28T14:15:25.869283Z",
     "iopub.status.busy": "2023-02-28T14:15:25.868946Z",
     "iopub.status.idle": "2023-02-28T14:15:25.874057Z",
     "shell.execute_reply": "2023-02-28T14:15:25.873375Z",
     "shell.execute_reply.started": "2023-02-28T14:15:25.869255Z"
    },
    "tags": []
   },
   "outputs": [
    {
     "data": {
      "text/plain": [
       "'[1,2,3]'"
      ]
     },
     "execution_count": 28,
     "metadata": {},
     "output_type": "execute_result"
    }
   ],
   "source": [
    "l"
   ]
  },
  {
   "cell_type": "code",
   "execution_count": null,
   "id": "8c3d364f-a0ae-45c0-90b4-aae7486ec261",
   "metadata": {},
   "outputs": [],
   "source": []
  }
 ],
 "metadata": {
  "kernelspec": {
   "display_name": "Python 3 (ipykernel)",
   "language": "python",
   "name": "python3"
  },
  "language_info": {
   "codemirror_mode": {
    "name": "ipython",
    "version": 3
   },
   "file_extension": ".py",
   "mimetype": "text/x-python",
   "name": "python",
   "nbconvert_exporter": "python",
   "pygments_lexer": "ipython3",
   "version": "3.10.9"
  }
 },
 "nbformat": 4,
 "nbformat_minor": 5
}
