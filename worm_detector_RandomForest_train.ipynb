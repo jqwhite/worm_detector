{
 "cells": [
  {
   "cell_type": "markdown",
   "source": [
    "# Worm detector using a random forest classifier"
   ],
   "metadata": {
    "collapsed": false
   },
   "id": "5ec574fda5792dd3"
  },
  {
   "cell_type": "markdown",
   "source": [
    "## Load libraries"
   ],
   "metadata": {
    "collapsed": false
   },
   "id": "66f556885632a755"
  },
  {
   "cell_type": "code",
   "execution_count": 1,
   "id": "e573a4ac27b77e02",
   "metadata": {
    "collapsed": true,
    "ExecuteTime": {
     "end_time": "2023-11-16T15:23:38.445423Z",
     "start_time": "2023-11-16T15:23:38.009923Z"
    }
   },
   "outputs": [],
   "source": [
    "import os\n",
    "import numpy as np\n",
    "from PIL import Image\n",
    "from sklearn.ensemble import RandomForestClassifier\n",
    "from sklearn.model_selection import GridSearchCV\n",
    "from sklearn.model_selection import train_test_split\n",
    "from sklearn.metrics import accuracy_score\n",
    "import joblib\n",
    "import json\n",
    "from datetime import datetime"
   ]
  },
  {
   "cell_type": "markdown",
   "source": [
    "## Path to data"
   ],
   "metadata": {
    "collapsed": false
   },
   "id": "541e3869aceee404"
  },
  {
   "cell_type": "code",
   "execution_count": 2,
   "outputs": [],
   "source": [
    "path_to_train_dataset = 'worm_categories/train'\n",
    "path_to_test_dataset = 'worm_categories/val'\n",
    "data_for_grid_search = 'worm_categories/full_dataset'\n",
    "more_data_for_grid_search = 'sorted_data'\n",
    "path_to_models = 'models'\n",
    "preprocess_image_size = (128,128)"
   ],
   "metadata": {
    "collapsed": false,
    "ExecuteTime": {
     "end_time": "2023-11-16T15:23:38.445642Z",
     "start_time": "2023-11-16T15:23:38.423183Z"
    }
   },
   "id": "995059c13ac9fbdd"
  },
  {
   "cell_type": "markdown",
   "source": [
    "## Pre-process images"
   ],
   "metadata": {
    "collapsed": false
   },
   "id": "d72c4c959c88eb8f"
  },
  {
   "cell_type": "code",
   "execution_count": 3,
   "outputs": [],
   "source": [
    "def preprocess_image(image_path, size=preprocess_image_size):\n",
    "    \"\"\"Load an image, resize, and flatten it.\"\"\"\n",
    "    image = Image.open(image_path)\n",
    "    image = image.resize(size)\n",
    "    if image.mode != 'L':\n",
    "        image = image.convert('L')\n",
    "    np_image = np.array(image).flatten()\n",
    "    return np_image\n"
   ],
   "metadata": {
    "collapsed": false,
    "ExecuteTime": {
     "end_time": "2023-11-16T15:23:38.445703Z",
     "start_time": "2023-11-16T15:23:38.426029Z"
    }
   },
   "id": "44dfdd4a596929e6"
  },
  {
   "cell_type": "markdown",
   "source": [
    "## Function to load data"
   ],
   "metadata": {
    "collapsed": false
   },
   "id": "10e23b3b32899802"
  },
  {
   "cell_type": "code",
   "execution_count": 4,
   "outputs": [],
   "source": [
    "# Define a function to load images and convert them into flattened arrays\n",
    "# also save the relation between the label names and label indecies for later predictions\n",
    "\n",
    "def load_images(folder):\n",
    "    images = []\n",
    "    labels = []\n",
    "    label_to_idx = {}  # Mapping dictionary\n",
    "    current_label_idx = 0\n",
    "\n",
    "    for label in sorted(os.listdir(folder)):  # Sort to ensure consistent order\n",
    "        label_folder = os.path.join(folder, label)\n",
    "        if not os.path.isdir(label_folder):\n",
    "            continue\n",
    "\n",
    "        # Assign an index to each new label\n",
    "        if label not in label_to_idx:\n",
    "            label_to_idx[label] = current_label_idx\n",
    "            current_label_idx += 1\n",
    "\n",
    "        for file in os.listdir(label_folder):\n",
    "            if file.endswith('.tif'):  # Check if the file is a .tif file\n",
    "                file_path = os.path.join(label_folder, file)\n",
    "                np_image = preprocess_image(file_path, size=preprocess_image_size)\n",
    "                images.append(np_image)\n",
    "                labels.append(label_to_idx[label])  # Use the numerical label\n",
    "\n",
    "    return np.array(images), np.array(labels), label_to_idx\n"
   ],
   "metadata": {
    "collapsed": false,
    "ExecuteTime": {
     "end_time": "2023-11-16T15:23:38.445730Z",
     "start_time": "2023-11-16T15:23:38.428973Z"
    }
   },
   "id": "da89b7c654cae852"
  },
  {
   "cell_type": "code",
   "execution_count": 5,
   "outputs": [],
   "source": [
    "\n",
    "# Load your datasets and get the label mapping\n",
    "X_train, y_train, train_label_to_idx = load_images(path_to_train_dataset)\n",
    "X_test, y_test, test_label_to_idx= load_images(path_to_test_dataset)\n"
   ],
   "metadata": {
    "collapsed": false,
    "ExecuteTime": {
     "end_time": "2023-11-16T15:23:39.159680Z",
     "start_time": "2023-11-16T15:23:38.431574Z"
    }
   },
   "id": "initial_id"
  },
  {
   "cell_type": "markdown",
   "source": [
    "## Simple Random Forest Classifier"
   ],
   "metadata": {
    "collapsed": false
   },
   "id": "7ff8eded97dbf792"
  },
  {
   "cell_type": "code",
   "execution_count": 6,
   "outputs": [
    {
     "name": "stdout",
     "output_type": "stream",
     "text": [
      "Accuracy: 0.75\n"
     ]
    }
   ],
   "source": [
    "# Create and train the Random Forest classifier\n",
    "rf = RandomForestClassifier(n_estimators=100, random_state=42)\n",
    "rf.fit(X_train, y_train)\n",
    "\n",
    "# Predict on the test set\n",
    "y_pred = rf.predict(X_test)\n",
    "\n",
    "# Evaluate the model\n",
    "accuracy = accuracy_score(y_test, y_pred)\n",
    "print(f\"Accuracy: {accuracy}\")"
   ],
   "metadata": {
    "collapsed": false,
    "ExecuteTime": {
     "end_time": "2023-11-16T15:23:39.235620Z",
     "start_time": "2023-11-16T15:23:39.161258Z"
    }
   },
   "id": "9984d635cfa8a200"
  },
  {
   "cell_type": "markdown",
   "source": [
    "## Random forest classifier with grid search and k-fold cross-validation"
   ],
   "metadata": {
    "collapsed": false
   },
   "id": "3d11587f769c273c"
  },
  {
   "cell_type": "code",
   "execution_count": 7,
   "outputs": [],
   "source": [
    "def random_forest_grid_search(data):\n",
    "    \n",
    "    X, y, label_to_idx = load_images(data)\n",
    "    \n",
    "    param_grid = {\n",
    "        'n_estimators': [10, 50, 100, 200],  # Number of trees in the forest\n",
    "        'max_features': ['sqrt', 'log2'],  # Number of features to consider at every split\n",
    "        'max_depth' : [4, 6, 8, 12],  # Maximum number of levels in tree\n",
    "        'criterion' :['gini', 'entropy']  # Function to measure the quality of a split\n",
    "    }\n",
    "    \n",
    "    rf = RandomForestClassifier()\n",
    "    \n",
    "    CV_rf = GridSearchCV(estimator=rf, param_grid=param_grid, cv= 5) # 5-fold cross-validation \n",
    "    CV_rf.fit(X, y)\n",
    "    \n",
    "    return CV_rf, label_to_idx"
   ],
   "metadata": {
    "collapsed": false,
    "ExecuteTime": {
     "end_time": "2023-11-16T15:23:39.235724Z",
     "start_time": "2023-11-16T15:23:39.232961Z"
    }
   },
   "id": "6b3a411c059622b9"
  },
  {
   "cell_type": "code",
   "execution_count": 8,
   "outputs": [],
   "source": [
    "CV_rf, label_to_idx = random_forest_grid_search(data_for_grid_search)"
   ],
   "metadata": {
    "collapsed": false,
    "ExecuteTime": {
     "end_time": "2023-11-16T15:23:55.809658Z",
     "start_time": "2023-11-16T15:23:39.235109Z"
    }
   },
   "id": "443fef999766b4ca"
  },
  {
   "cell_type": "code",
   "execution_count": 9,
   "outputs": [
    {
     "name": "stdout",
     "output_type": "stream",
     "text": [
      "Best Parameters: {'criterion': 'entropy', 'max_depth': 12, 'max_features': 'sqrt', 'n_estimators': 100}\n"
     ]
    }
   ],
   "source": [
    "print(\"Best Parameters:\", CV_rf.best_params_)"
   ],
   "metadata": {
    "collapsed": false,
    "ExecuteTime": {
     "end_time": "2023-11-16T15:23:55.816626Z",
     "start_time": "2023-11-16T15:23:55.810224Z"
    }
   },
   "id": "b2ca5225565721f7"
  },
  {
   "cell_type": "code",
   "execution_count": 10,
   "outputs": [
    {
     "name": "stdout",
     "output_type": "stream",
     "text": [
      "Best Score 0.75\n"
     ]
    }
   ],
   "source": [
    "print(\"Best Score\", CV_rf.best_score_)"
   ],
   "metadata": {
    "collapsed": false,
    "ExecuteTime": {
     "end_time": "2023-11-16T15:23:55.816716Z",
     "start_time": "2023-11-16T15:23:55.812560Z"
    }
   },
   "id": "5f9588bb7b470b31"
  },
  {
   "cell_type": "code",
   "execution_count": 11,
   "outputs": [],
   "source": [
    "best_model = CV_rf.best_estimator_\n",
    "# grab a timestamp\n",
    "now = datetime.utcnow().strftime('%Y-%m-%d_%H%M')\n",
    "# save the model\n",
    "joblib.dump(best_model, f'{path_to_models}/best_random_forest_model_{now}.pkl')\n",
    "# Save the label mapping\n",
    "with open(f'{path_to_models}/random_forest_labels_to_idx.json', 'w') as f:\n",
    "    json.dump(label_to_idx, f)"
   ],
   "metadata": {
    "collapsed": false,
    "ExecuteTime": {
     "end_time": "2023-11-16T15:23:55.864421Z",
     "start_time": "2023-11-16T15:23:55.814569Z"
    }
   },
   "id": "ee0c1b4118bb624"
  },
  {
   "cell_type": "markdown",
   "source": [
    "## With new data"
   ],
   "metadata": {
    "collapsed": false
   },
   "id": "47438ab8b335518f"
  },
  {
   "cell_type": "code",
   "execution_count": 12,
   "outputs": [],
   "source": [
    "CV_rf, label_to_idx = random_forest_grid_search(more_data_for_grid_search)"
   ],
   "metadata": {
    "collapsed": false,
    "ExecuteTime": {
     "end_time": "2023-11-16T15:27:34.900012Z",
     "start_time": "2023-11-16T15:23:55.849434Z"
    }
   },
   "id": "6d04ae51eef7eff0"
  },
  {
   "cell_type": "code",
   "execution_count": 13,
   "outputs": [
    {
     "name": "stdout",
     "output_type": "stream",
     "text": [
      "Best Parameters: {'criterion': 'entropy', 'max_depth': 12, 'max_features': 'sqrt', 'n_estimators': 100}\n"
     ]
    }
   ],
   "source": [
    "print(\"Best Parameters:\", CV_rf.best_params_)"
   ],
   "metadata": {
    "collapsed": false,
    "ExecuteTime": {
     "end_time": "2023-11-16T15:27:34.906413Z",
     "start_time": "2023-11-16T15:27:34.900469Z"
    }
   },
   "id": "46ab66f48a3be2c1"
  },
  {
   "cell_type": "code",
   "execution_count": 14,
   "outputs": [
    {
     "name": "stdout",
     "output_type": "stream",
     "text": [
      "Best Score: 0.9624\n"
     ]
    }
   ],
   "source": [
    "print(f\"Best Score: {CV_rf.best_score_:0.4f}\")"
   ],
   "metadata": {
    "collapsed": false,
    "ExecuteTime": {
     "end_time": "2023-11-16T15:27:34.906501Z",
     "start_time": "2023-11-16T15:27:34.904487Z"
    }
   },
   "id": "6c16558c27cb57e"
  },
  {
   "cell_type": "code",
   "execution_count": 15,
   "outputs": [],
   "source": [
    "best_model = CV_rf.best_estimator_\n",
    "# grab a timestamp\n",
    "now = datetime.utcnow().strftime('%Y-%m-%d_%H%M')\n",
    "# save the model\n",
    "joblib.dump(best_model, f'{path_to_models}/best_random_forest_model_more_data_{now}.pkl')\n",
    "# Save the label mapping\n",
    "with open(f'{path_to_models}/random_forest_labels_to_idx_more_data.json', 'w') as f:\n",
    "    json.dump(label_to_idx, f)"
   ],
   "metadata": {
    "collapsed": false,
    "ExecuteTime": {
     "end_time": "2023-11-16T15:27:34.921668Z",
     "start_time": "2023-11-16T15:27:34.906770Z"
    }
   },
   "id": "e83214fdf01bfeec"
  },
  {
   "cell_type": "code",
   "execution_count": 15,
   "outputs": [],
   "source": [],
   "metadata": {
    "collapsed": false,
    "ExecuteTime": {
     "end_time": "2023-11-16T15:27:34.938837Z",
     "start_time": "2023-11-16T15:27:34.922008Z"
    }
   },
   "id": "bd4048cb4dc46744"
  }
 ],
 "metadata": {
  "kernelspec": {
   "display_name": "Python 3",
   "language": "python",
   "name": "python3"
  },
  "language_info": {
   "codemirror_mode": {
    "name": "ipython",
    "version": 2
   },
   "file_extension": ".py",
   "mimetype": "text/x-python",
   "name": "python",
   "nbconvert_exporter": "python",
   "pygments_lexer": "ipython2",
   "version": "2.7.6"
  }
 },
 "nbformat": 4,
 "nbformat_minor": 5
}
